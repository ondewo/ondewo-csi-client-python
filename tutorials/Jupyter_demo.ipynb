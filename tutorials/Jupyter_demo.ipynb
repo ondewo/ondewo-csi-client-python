{
    "cells": [
        {
            "cell_type": "markdown",
            "id": "75ec7ed1",
            "metadata": {},
            "source": [
                "# Ondewo s2s client tutorial\n"
            ]
        },
        {
            "cell_type": "markdown",
            "id": "775d7af9",
            "metadata": {},
            "source": [
                "First: Importing your clients with these lines:"
            ]
        },
        {
            "cell_type": "code",
            "execution_count": null,
            "id": "33c31971",
            "metadata": {},
            "outputs": [],
            "source": [
                "from ondewo.nlu.client_config import ClientConfig as NluClientConfig\n",
                "from ondewo.s2t.client.client_config import ClientConfig as S2tClientConfig\n",
                "from ondewo.t2s.client.client_config import ClientConfig as T2sClientConfig\n",
                "\n",
                "from ondewo.nlu.client import Client as NluClient\n",
                "from ondewo.s2t.client.client import Client as S2tClient\n",
                "from ondewo.t2s.client.client import Client as T2sClient"
            ]
        },
        {
            "cell_type": "markdown",
            "id": "13912c41",
            "metadata": {},
            "source": [
                "Second: Import the grpc auto generated code. This is built automatically from protobuff libraries"
            ]
        },
        {
            "cell_type": "code",
            "execution_count": null,
            "id": "09f2a807",
            "metadata": {},
            "outputs": [],
            "source": [
                "import ondewo.s2t.speech_to_text_pb2 as s2t\n",
                "import ondewo.t2s.text_to_speech_pb2 as t2s\n",
                "import ondewo.nlu.agent_pb2 as agent_pb2\n",
                "import ondewo.nlu.user_pb2 as user_pb2"
            ]
        },
        {
            "cell_type": "code",
            "execution_count": null,
            "id": "b6e6ec31",
            "metadata": {},
            "outputs": [],
            "source": [
                "nlu_config: NluClientConfig = NluClientConfig(\n",
                "    host = \"\",\n",
                "    port = \"\",\n",
                "    grpc_cert = \"\",\n",
                "    http_token = \"\",\n",
                "    user_name = \"\",\n",
                "    password = \"\",\n",
                ")\n",
                "s2t_config: S2tClientConfig = S2tClientConfig(\n",
                "    host = \"\",\n",
                "    port = \"\",\n",
                "    grpc_cert = \"\",\n",
                ")\n",
                "t2s_config: T2sClientConfig = T2sClientConfig(\n",
                "    host = \"\",\n",
                "    port = \"\",\n",
                "    grpc_cert = \"\",\n",
                ")"
            ]
        },
        {
            "cell_type": "markdown",
            "id": "2ae11af7",
            "metadata": {},
            "source": [
                "\n",
                "## s2t, t2s and nlu Clients\n",
                "Now you have all the clients "
            ]
        },
        {
            "cell_type": "code",
            "execution_count": null,
            "id": "2b485e9b",
            "metadata": {},
            "outputs": [],
            "source": [
                "nlu_client = NluClient(config=nlu_config, use_secure_channel=True)"
            ]
        },
        {
            "cell_type": "code",
            "execution_count": null,
            "id": "90cf4f7d",
            "metadata": {},
            "outputs": [],
            "source": [
                "s2t_client = S2tClient(config=s2t_config, use_secure_channel=True)"
            ]
        },
        {
            "cell_type": "code",
            "execution_count": null,
            "id": "4fc52366",
            "metadata": {},
            "outputs": [],
            "source": [
                "t2s_client = T2sClient(config=t2s_config, use_secure_channel=True)"
            ]
        },
        {
            "cell_type": "code",
            "execution_count": null,
            "id": "a848c1f3",
            "metadata": {
                "scrolled": true
            },
            "outputs": [],
            "source": [
                "# get some helper functions\n",
                "%run Jupyter_demo_helper.ipynb"
            ]
        },
        {
            "cell_type": "markdown",
            "id": "b8f59245",
            "metadata": {},
            "source": [
                "#### Example 1 s2t "
            ]
        },
        {
            "cell_type": "code",
            "execution_count": null,
            "id": "c86ce8e7",
            "metadata": {},
            "outputs": [],
            "source": [
                "AUDIO_FILE: str = \"s2t_examples/audiofiles/sample_1.wav\"\n",
                "language = 'en'\n",
                "\n",
                "transcribe_response = s2t_ex_1(AUDIO_FILE, language)"
            ]
        },
        {
            "cell_type": "code",
            "execution_count": null,
            "id": "c105e0de",
            "metadata": {},
            "outputs": [],
            "source": [
                "print(transcribe_response.transcriptions)\n",
                "\n",
                "s2t_pipelines = s2t_client.services.speech_to_text.list_s2t_pipelines(request=s2t.ListS2tPipelinesRequest())\n",
                "\n",
                "print(f\"Speech to text pipelines: {[pipeline.id for pipeline in s2t_pipelines.pipeline_configs]}\")\n",
                "\n",
                "print(f\"Speech to text domains: { set([pipeline.description.domain for pipeline in s2t_pipelines.pipeline_configs])}\")\n",
                "\n",
                "print(f\"Speech to text languages: { set([pipeline.description.language for pipeline in s2t_pipelines.pipeline_configs])}\")\n"
            ]
        },
        {
            "cell_type": "markdown",
            "id": "ec5ff32a",
            "metadata": {},
            "source": [
                "####  Example 2 s2t"
            ]
        },
        {
            "cell_type": "code",
            "execution_count": null,
            "id": "e032abac",
            "metadata": {},
            "outputs": [],
            "source": [
                "AUDIO_FILE: str = \"s2t_examples/audiofiles/sample_2.wav\"\n",
                "language = 'de'\n",
                "\n",
                "response_gen = s2t_ex_2(AUDIO_FILE, language)"
            ]
        },
        {
            "cell_type": "code",
            "execution_count": null,
            "id": "1534eb29",
            "metadata": {},
            "outputs": [],
            "source": [
                "for i, response_chunk in enumerate(response_gen):\n",
                "    print(response_chunk.transcriptions)"
            ]
        },
        {
            "cell_type": "code",
            "execution_count": null,
            "id": "3a6a59b7",
            "metadata": {},
            "outputs": [],
            "source": [
                "s2t_pipelines = s2t_client.services.speech_to_text.list_s2t_pipelines(request=s2t.ListS2tPipelinesRequest())\n",
                "\n",
                "print(f\"Speech to text pipelines: {[pipeline.id for pipeline in s2t_pipelines.pipeline_configs]}\")\n",
                "\n",
                "print(f\"Speech to text domains: { set([pipeline.description.domain for pipeline in s2t_pipelines.pipeline_configs])}\")\n",
                "\n",
                "print(f\"Speech to text languages: { set([pipeline.description.language for pipeline in s2t_pipelines.pipeline_configs])}\")\n"
            ]
        },
        {
            "cell_type": "markdown",
            "id": "9d70709f",
            "metadata": {},
            "source": [
                "#### Example 3 s2t : live stream"
            ]
        },
        {
            "cell_type": "code",
            "execution_count": null,
            "id": "ac75eea4",
            "metadata": {},
            "outputs": [],
            "source": [
                "def live_speech(pipeline_id,session_id = str(uuid.uuid4()),save_to_disk = False,streamer_name = \"pyaudio\"):\n",
                "    live_speech_helper(pipeline_id,session_id,save_to_disk,streamer_name)"
            ]
        },
        {
            "cell_type": "code",
            "execution_count": null,
            "id": "ad8bba33",
            "metadata": {},
            "outputs": [],
            "source": [
                "live_speech('default_german')"
            ]
        },
        {
            "cell_type": "markdown",
            "id": "cf7c4d04",
            "metadata": {},
            "source": [
                "## t2s client\n"
            ]
        },
        {
            "cell_type": "markdown",
            "id": "eab42dd8",
            "metadata": {},
            "source": [
                "#### Example t2s"
            ]
        },
        {
            "cell_type": "code",
            "execution_count": null,
            "id": "3069fad6",
            "metadata": {},
            "outputs": [],
            "source": [
                "t2s_pipelines = t2s_client.services.text_to_speech.list_t2s_pipelines(request=t2s.ListT2sPipelinesRequest())\n",
                "\n",
                "print(f\"Text to speech pipelines: {[pipeline.id for pipeline in t2s_pipelines.pipelines]}\")\n",
                "\n",
                "print(f\"Text to speech domains: {set([pipeline.description.domain for pipeline in t2s_pipelines.pipelines])}\")\n",
                "print(f\"Text to speech languages: {set([pipeline.description.language for pipeline in t2s_pipelines.pipelines])}\")"
            ]
        },
        {
            "cell_type": "code",
            "execution_count": null,
            "id": "306e2c66",
            "metadata": {},
            "outputs": [],
            "source": [
                "voice_num = 1\n",
                "language = \"en\"\n",
                "length_scale = 10\n",
                "say(t2s_client, \"Gruess dich Ich bin Gabriel\", length_scale, language, voice_num)"
            ]
        },
        {
            "cell_type": "markdown",
            "id": "624a2cf9",
            "metadata": {},
            "source": [
                "## NLU client "
            ]
        },
        {
            "cell_type": "code",
            "execution_count": null,
            "id": "060f99e9",
            "metadata": {},
            "outputs": [],
            "source": [
                "# get some helper functions\n",
                "%run Jupyter_demo_helper.ipynb"
            ]
        },
        {
            "cell_type": "code",
            "execution_count": null,
            "id": "139009e6",
            "metadata": {},
            "outputs": [],
            "source": [
                "project_id =  \"e4dc4aed-99bd-4f4d-9355-a38a574d3370\"\n",
                "get_agent_by_id(project_id)\n",
                "#session_id can be passed too\n",
                "session = create_session_nlu(project_id)\n",
                "get_agent_by_name(session)"
            ]
        },
        {
            "cell_type": "code",
            "execution_count": null,
            "id": "01c3284d",
            "metadata": {},
            "outputs": [],
            "source": [
                "# Enter \"end convo\" to quit at any time\n",
                "nlu_convo()"
            ]
        },
        {
            "cell_type": "markdown",
            "id": "e81da31e",
            "metadata": {},
            "source": [
                "## s2s example"
            ]
        },
        {
            "cell_type": "code",
            "execution_count": null,
            "id": "2ed30085",
            "metadata": {},
            "outputs": [],
            "source": [
                "# TODO "
            ]
        }
    ],
    "metadata": {
        "kernelspec": {
            "display_name": "Python 3 (ipykernel)",
            "language": "python",
            "name": "python3"
        },
        "language_info": {
            "codemirror_mode": {
                "name": "ipython",
                "version": 3
            },
            "file_extension": ".py",
            "mimetype": "text/x-python",
            "name": "python",
            "nbconvert_exporter": "python",
            "pygments_lexer": "ipython3",
            "version": "3.8.13"
        }
    },
    "nbformat": 4,
    "nbformat_minor": 5
}
