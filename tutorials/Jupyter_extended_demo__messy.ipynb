{
 "cells": [
  {
   "cell_type": "markdown",
   "id": "d717cbba",
   "metadata": {
    "slideshow": {
     "slide_type": "-"
    }
   },
   "source": [
    "# Ondewo s2s client tutorial"
   ]
  },
  {
   "cell_type": "markdown",
   "id": "1f17cc4a",
   "metadata": {},
   "source": [
    "First: Importing your clients with these lines:"
   ]
  },
  {
   "cell_type": "code",
   "execution_count": 1,
   "id": "1d403f36",
   "metadata": {},
   "outputs": [],
   "source": [
    "from ondewo.csi.client.client_config import ClientConfig\n",
    "from ondewo.nlu.client_config import ClientConfig as NluClientConfig\n",
    "\n",
    "from ondewo.csi.client.client import Client as CsiClient\n",
    "from ondewo.s2t.client.client import Client as S2tClient\n",
    "from ondewo.t2s.client.client import Client as T2sClient\n",
    "from ondewo.nlu.client import Client as NluClient"
   ]
  },
  {
   "cell_type": "markdown",
   "id": "c1af977a",
   "metadata": {},
   "source": [
    "Second: Import the grpc auto generated code. This is built automatically from protobuff libraries"
   ]
  },
  {
   "cell_type": "code",
   "execution_count": 2,
   "id": "c62856ef",
   "metadata": {},
   "outputs": [],
   "source": [
    "import ondewo.s2t.speech_to_text_pb2 as s2t\n",
    "import ondewo.t2s.text_to_speech_pb2 as t2s\n",
    "import ondewo.nlu.agent_pb2 as agent"
   ]
  },
  {
   "cell_type": "code",
   "execution_count": 3,
   "id": "0ad8dcac",
   "metadata": {},
   "outputs": [],
   "source": [
    "# TODO enter csi json file in colab\n",
    "\n",
    "with open('csi.json') as fi:\n",
    "    config = ClientConfig.from_json(fi.read())\n",
    "with open('csi.json') as fi:\n",
    "    nlu_config = NluClientConfig.from_json(fi.read())"
   ]
  },
  {
   "cell_type": "markdown",
   "id": "642887ef",
   "metadata": {},
   "source": [
    "## CSI client "
   ]
  },
  {
   "cell_type": "code",
   "execution_count": 4,
   "id": "b4a5e047",
   "metadata": {},
   "outputs": [],
   "source": [
    "csi_client = CsiClient(config=config)"
   ]
  },
  {
   "cell_type": "markdown",
   "id": "6041b401",
   "metadata": {},
   "source": [
    "\n",
    "\n"
   ]
  },
  {
   "cell_type": "markdown",
   "id": "192a3574",
   "metadata": {},
   "source": [
    "## s2t client"
   ]
  },
  {
   "cell_type": "markdown",
   "id": "2d367242",
   "metadata": {},
   "source": [
    "Now you have the s2t client "
   ]
  },
  {
   "cell_type": "code",
   "execution_count": 5,
   "id": "557c6d93",
   "metadata": {},
   "outputs": [],
   "source": [
    "s2t_client = S2tClient(config=config)"
   ]
  },
  {
   "cell_type": "markdown",
   "id": "b8f59245",
   "metadata": {},
   "source": [
    "#### Example 1 s2t "
   ]
  },
  {
   "cell_type": "markdown",
   "id": "a3702f8b",
   "metadata": {},
   "source": [
    " "
   ]
  },
  {
   "cell_type": "code",
   "execution_count": 157,
   "id": "b83be0a4",
   "metadata": {},
   "outputs": [],
   "source": [
    "def find_pipeline_by_language_s2t(language):\n",
    "    \n",
    "    pipelines_ids = []\n",
    "    \n",
    "    pipelines = s2t_client.services.speech_to_text.list_s2t_pipelines(\n",
    "        request=ListS2tPipelinesRequest(languages=[language])).pipeline_configs\n",
    "    \n",
    "    for pipeline in pipelines:\n",
    "        pipelines_ids.append(pipeline)\n",
    "    \n",
    "    return pipelines"
   ]
  },
  {
   "cell_type": "code",
   "execution_count": null,
   "id": "9801ca5a",
   "metadata": {},
   "outputs": [],
   "source": []
  },
  {
   "cell_type": "code",
   "execution_count": null,
   "id": "add61884",
   "metadata": {},
   "outputs": [],
   "source": []
  },
  {
   "cell_type": "code",
   "execution_count": 169,
   "id": "ddc51a20",
   "metadata": {},
   "outputs": [],
   "source": [
    "import wave\n",
    "\n",
    "from google.protobuf.empty_pb2 import Empty\n",
    "\n",
    "from ondewo.s2t import speech_to_text_pb2\n",
    "from ondewo.s2t.speech_to_text_pb2 import ListS2tPipelinesRequest\n",
    "\n",
    "AUDIO_FILE: str = \"s2t_examples/audiofiles/sample_1.wav\"\n",
    "\n",
    "# List all speech-2-text pipelines (model setups) present on the server\n",
    "# We are going to pick the first pipeline (model setup)\n",
    "pipelines = s2t_client.services.speech_to_text.list_s2t_pipelines(request = Empty()).pipeline_configs\n",
    "pipeline = find_pipeline_by_language_s2t('en')[0]\n",
    "                \n",
    "\n",
    "# Read file which we want to transcribe\n",
    "with wave.open(AUDIO_FILE) as w:\n",
    "    audio: bytes = w.readframes(w.getnframes())\n",
    "\n",
    "# Create transcription request\n",
    "request = speech_to_text_pb2.TranscribeFileRequest(\n",
    "    s2t_pipeline_id=pipeline.id,\n",
    "    audio_file=audio,\n",
    "    ctc_decoding=speech_to_text_pb2.CTCDecoding.BEAM_SEARCH_WITH_LM\n",
    ")\n",
    "# Send transcription request and get response\n",
    "transcribe_response = s2t_client.services.speech_to_text.transcribe_file(request=request)\n"
   ]
  },
  {
   "cell_type": "code",
   "execution_count": 170,
   "id": "c58ec9a8",
   "metadata": {},
   "outputs": [
    {
     "name": "stdout",
     "output_type": "stream",
     "text": [
      "hello i would like to order a large piece of whamphoas \n",
      "Speech to text pipelines: ['ato001', 'default_german', 'keb001', 'german_general', 'tir002', 'general_english']\n",
      "Speech to text domains: {'general'}\n",
      "Speech to text languages: {'en', 'de'}\n"
     ]
    }
   ],
   "source": [
    "print(transcribe_response.transcription)\n",
    "\n",
    "s2t_pipelines = s2t_client.services.speech_to_text.list_s2t_pipelines(request=s2t.ListS2tPipelinesRequest())\n",
    "\n",
    "print(f\"Speech to text pipelines: {[pipeline.id for pipeline in s2t_pipelines.pipeline_configs]}\")\n",
    "\n",
    "print(f\"Speech to text domains: { set([pipeline.description.domain for pipeline in s2t_pipelines.pipeline_configs])}\")\n",
    "\n",
    "print(f\"Speech to text languages: { set([pipeline.description.language for pipeline in s2t_pipelines.pipeline_configs])}\")\n"
   ]
  },
  {
   "cell_type": "markdown",
   "id": "ac9f436b",
   "metadata": {},
   "source": [
    "#### Example 2 s2t"
   ]
  },
  {
   "cell_type": "code",
   "execution_count": 165,
   "id": "493d4edf",
   "metadata": {},
   "outputs": [],
   "source": [
    "import wave\n",
    "from typing import Iterator\n",
    "from google.protobuf.empty_pb2 import Empty\n",
    "\n",
    "from ondewo.s2t import speech_to_text_pb2\n",
    "\n",
    "AUDIO_FILE: str = \"s2t_examples/audiofiles/sample_2.wav\"\n",
    "CHUNK_SIZE: int = 8000\n",
    "\n",
    "\n",
    "# We are going to make to send the file chunk-by-chunk to simulate a stream\n",
    "def get_streaming_audio(audio_path: str) -> Iterator[bytes]:\n",
    "    with wave.open(audio_path) as w:\n",
    "        chunk: bytes = w.readframes(CHUNK_SIZE)\n",
    "        while chunk != b\"\":\n",
    "            yield chunk\n",
    "            chunk = w.readframes(CHUNK_SIZE)\n",
    "\n",
    "\n",
    "def create_streaming_request(\n",
    "        audio_stream: Iterator[bytes],\n",
    "        pipeline_id: str,\n",
    ") -> Iterator[speech_to_text_pb2.TranscribeStreamRequest]:\n",
    "    for i, chunk in enumerate(audio_stream):\n",
    "        yield speech_to_text_pb2.TranscribeStreamRequest(\n",
    "            audio_chunk=chunk,\n",
    "            s2t_pipeline_id=pipeline_id,\n",
    "            spelling_correction=False,\n",
    "            ctc_decoding=speech_to_text_pb2.CTCDecoding.GREEDY,\n",
    "            end_of_stream=False,\n",
    "        )\n",
    "    # End the stream\n",
    "\n",
    "\n",
    "# List all speech-2-text pipelines (model setups) present on the server\n",
    "# We are going to pick the first pipeline (model setup)\n",
    "pipelines = s2t_client.services.speech_to_text.list_s2t_pipelines(request = Empty()).pipeline_configs\n",
    "pipeline = pipelines[5]\n",
    "pipeline_id = find_pipeline_by_language_s2t('en')[0].id\n",
    "\n",
    "# Get audio stream (iterator of audio chunks)\n",
    "audio_stream: Iterator[bytes] = get_streaming_audio(AUDIO_FILE)\n",
    "\n",
    "# Create streaming request\n",
    "streaming_request: Iterator[speech_to_text_pb2.TranscribeStreamRequest] = \\\n",
    "    create_streaming_request(audio_stream=audio_stream, pipeline_id=pipeline_id)\n",
    "\n",
    "# Transcribe the stream and get back responses\n",
    "response_gen: Iterator[speech_to_text_pb2.TranscribeStreamResponse] = \\\n",
    "    s2t_client.services.speech_to_text.transcribe_stream(streaming_request)\n"
   ]
  },
  {
   "cell_type": "code",
   "execution_count": 166,
   "id": "22fd080d",
   "metadata": {},
   "outputs": [
    {
     "name": "stdout",
     "output_type": "stream",
     "text": [
      "hello i would like to order one large bitza \n"
     ]
    }
   ],
   "source": [
    "# Print transcribed utterances\n",
    "for i, response_chunk in enumerate(response_gen):\n",
    "    print(response_chunk.transcription)"
   ]
  },
  {
   "cell_type": "code",
   "execution_count": 167,
   "id": "a7b3c1cd",
   "metadata": {},
   "outputs": [
    {
     "name": "stdout",
     "output_type": "stream",
     "text": [
      "Speech to text pipelines: ['ato001', 'default_german', 'keb001', 'german_general', 'tir002', 'general_english']\n",
      "Speech to text domains: {'general'}\n",
      "Speech to text languages: {'en', 'de'}\n"
     ]
    }
   ],
   "source": [
    "s2t_pipelines = s2t_client.services.speech_to_text.list_s2t_pipelines(request=s2t.ListS2tPipelinesRequest())\n",
    "\n",
    "print(f\"Speech to text pipelines: {[pipeline.id for pipeline in s2t_pipelines.pipeline_configs]}\")\n",
    "\n",
    "print(f\"Speech to text domains: { set([pipeline.description.domain for pipeline in s2t_pipelines.pipeline_configs])}\")\n",
    "\n",
    "print(f\"Speech to text languages: { set([pipeline.description.language for pipeline in s2t_pipelines.pipeline_configs])}\")\n"
   ]
  },
  {
   "cell_type": "markdown",
   "id": "f3ad20f0",
   "metadata": {},
   "source": [
    "\n",
    "\n",
    " "
   ]
  },
  {
   "cell_type": "markdown",
   "id": "080e7012",
   "metadata": {},
   "source": [
    "\n",
    "\n",
    "\n",
    "\n",
    "\n",
    "\n",
    " "
   ]
  },
  {
   "cell_type": "code",
   "execution_count": null,
   "id": "15164f7d",
   "metadata": {},
   "outputs": [],
   "source": []
  },
  {
   "cell_type": "code",
   "execution_count": 59,
   "id": "562a3b03",
   "metadata": {},
   "outputs": [],
   "source": [
    "import logging                                                           \n",
    "import queue                                                             \n",
    "import time                                                              \n",
    "import uuid                                                              \n",
    "from abc import ABCMeta, abstractmethod                                  \n",
    "from typing import Iterator, Optional                                                                       \n",
    "from ondewo.logging.logger import logger_console                         \n",
    "from ondewo.nlu.session_pb2 import (                                     \n",
    "    InputAudioConfig,                                                    \n",
    "    QueryInput,                                                          \n",
    "    StreamingDetectIntentRequest,                                        \n",
    ")                                                                        \n",
    "from ondewo.s2t import speech_to_text_pb2                                \n",
    "                                                                 \n",
    "                                                                         \n",
    "CHUNK: int = 8000                                                        \n",
    "MONO: int = 1                                                            \n",
    "RATE: int = 16000                                                        \n",
    "PLAYING: bool = False                                                    \n",
    "WAV_HEADER_LENGTH: int = 46                                              \n",
    "SAMPLEWIDTH: int = 2                                                     \n",
    "\n",
    "        \n",
    "class StreamerInInterface(metaclass=ABCMeta):                            \n",
    "    @property                                                            \n",
    "    @abstractmethod                                                      \n",
    "    def mute(self) -> bool:                                              \n",
    "        pass                                                             \n",
    "                                                                         \n",
    "    @mute.setter                                                         \n",
    "    def mute(self, value: bool) -> None:                                 \n",
    "        pass                                                             \n",
    "                                                                         \n",
    "    @abstractmethod\n",
    "    def create_s2t_request(\n",
    "        self,\n",
    "        audio_stream: Iterator[bytes],\n",
    "        pipeline_id: str,\n",
    "    ) -> Iterator[speech_to_text_pb2.TranscribeStreamRequest]:\n",
    "        pass\n",
    "    \n",
    "    @abstractmethod                                                      \n",
    "    def close(self) -> None:                                             \n",
    "        pass                                                             \n",
    "\n",
    "class PyAudioStreamerIn(StreamerInInterface):                                                         \n",
    "    def __init__(self) -> None:                                                                       \n",
    "        import pyaudio                             \n",
    "\n",
    "        self.CHUNK: int = CHUNK                                                                       \n",
    "        self.pyaudio_object: pyaudio.PyAudio = pyaudio.PyAudio()                                               \n",
    "        self.stream: pyaudio.Stream = self.pyaudio_object.open(                                                \n",
    "            channels=1,                            \n",
    "            format=pyaudio.paInt16,                                                                   \n",
    "            rate=16000,                            \n",
    "            input=True,                            \n",
    "            frames_per_buffer=self.CHUNK,                                                             \n",
    "        )                                          \n",
    "\n",
    "    @property                                      \n",
    "    def mute(self) -> bool:                                                                           \n",
    "        return PLAYING                             \n",
    "\n",
    "    @mute.setter                                   \n",
    "    def mute(self, value: bool) -> None:                                                              \n",
    "        global PLAYING                             \n",
    "        PLAYING = value                            \n",
    "\n",
    "    def close(self) -> None:                                                                          \n",
    "        self.stream.close()                                                                           \n",
    "        self.pyaudio_object.terminate()                                                               \n",
    "\n",
    "    def create_s2t_request(\n",
    "            self,\n",
    "            audio_stream: Iterator[bytes],\n",
    "            pipeline_id: str,\n",
    "    ) -> Iterator[speech_to_text_pb2.TranscribeStreamRequest]:\n",
    "        for i, chunk in enumerate(audio_stream):\n",
    "            yield speech_to_text_pb2.TranscribeStreamRequest(\n",
    "                audio_chunk=chunk,\n",
    "                s2t_pipeline_id=pipeline_id,\n",
    "                spelling_correction=False,\n",
    "                ctc_decoding=speech_to_text_pb2.CTCDecoding.GREEDY,\n",
    "                end_of_stream=False,\n",
    "            )\n",
    "        # End the stream\n",
    "        yield speech_to_text_pb2.TranscribeStreamRequest(\n",
    "            audio_chunk=b'',\n",
    "            s2t_pipeline_id=pipeline_id,\n",
    "            spelling_correction=False,\n",
    "            ctc_decoding=speech_to_text_pb2.CTCDecoding.GREEDY,\n",
    "            end_of_stream=True,\n",
    "        )                                                 \n",
    "\n",
    "    def create_transciption_requests_from_stream(self, pipeline_id: str) -> Iterator[speech_to_text_pb2.TranscribeStreamRequest]:         \n",
    "        while True:                                \n",
    "            chunk: bytes = self.stream.read(CHUNK)                                                    \n",
    "            logging.info(f\"Sending {len(chunk)} bytes\")                                                        \n",
    "            yield speech_to_text_pb2.TranscribeStreamRequest(\n",
    "                audio_chunk=chunk,                                                                    \n",
    "                s2t_pipeline_id=pipeline_id,                                                          \n",
    "                spelling_correction=False,                                                            \n",
    "                ctc_decoding=speech_to_text_pb2.CTCDecoding.BEAM_SEARCH_WITH_LM,                               \n",
    "                end_of_stream=False,                                                                  \n",
    "            )                                      \n",
    "            time.sleep(0.1)                      \n",
    "            \n",
    "        \n",
    "                                      \n",
    "def live_speech_helper(                                                                                        \n",
    "    pipeline_id: str,                                                                            \n",
    "    session_id: str,                                                                             \n",
    "    save_to_disk: bool,                                                                          \n",
    "    streamer_name: str,                                                                          \n",
    "    initial_intent_display_name: Optional[str] = None,                                           \n",
    ") -> None:                                                                                       \n",
    "    session_id = session_id if session_id else str(uuid.uuid4())                                                                                                                              \n",
    "    client: CsiClient = CsiClient(config=config, use_secure_channel=config.grpc_cert is not None)      \n",
    "    conversations_service: Conversations = client.services.conversations\n",
    "       \n",
    "    \n",
    "    if \"pyaudio\" in streamer_name:                                                               \n",
    "        # Get audio stream (iterator of audio chunks):                                           \n",
    "        streamer: StreamerInInterface = PyAudioStreamerIn()\n",
    "        \n",
    "        transcription_reqeusts = streamer.create_transciption_requests_from_stream(pipeline_id)\n",
    "        \n",
    "        # Transcribe the stream and get back responses\n",
    "        response_gen: Iterator[speech_to_text_pb2.TranscribeStreamResponse] = \\\n",
    "            s2t_client.services.speech_to_text.transcribe_stream(transcription_reqeusts)\n",
    "              \n",
    "        # Print transcribed utterances\n",
    "        for i, response_chunk in enumerate(response_gen):\n",
    "            print(response_chunk.transcription)\n",
    "            \n",
    "def live_speech(pipeline_id,session_id = str(uuid.uuid4()),save_to_disk = False,streamer_name = \"pyaudio\"):\n",
    "    live_speech_helper(pipeline_id,session_id,save_to_disk,streamer_name)"
   ]
  },
  {
   "cell_type": "code",
   "execution_count": 77,
   "id": "c469957a",
   "metadata": {},
   "outputs": [],
   "source": [
    "# live_speech('default_german')"
   ]
  },
  {
   "cell_type": "markdown",
   "id": "0c2e59ed",
   "metadata": {},
   "source": [
    "## t2s client"
   ]
  },
  {
   "cell_type": "code",
   "execution_count": 61,
   "id": "487008a3",
   "metadata": {},
   "outputs": [],
   "source": [
    "import io\n",
    "from typing import Any\n",
    "\n",
    "import IPython.display as ipd\n",
    "import soundfile as sf\n",
    "\n",
    "\n",
    "from ondewo.t2s.client.services.text_to_speech import Text2Speech\n",
    "from ondewo.t2s.text_to_speech_pb2 import ListT2sPipelinesRequest, Text2SpeechConfig"
   ]
  },
  {
   "cell_type": "code",
   "execution_count": 62,
   "id": "90787a68",
   "metadata": {},
   "outputs": [],
   "source": [
    "t2s_client = T2sClient(config=config)"
   ]
  },
  {
   "cell_type": "markdown",
   "id": "566f15f4",
   "metadata": {},
   "source": [
    "#### Example t2s"
   ]
  },
  {
   "cell_type": "code",
   "execution_count": 63,
   "id": "4d5fbe4a",
   "metadata": {},
   "outputs": [],
   "source": [
    "def find_pipeline_by_language_t2s(language):\n",
    "    \n",
    "    pipelines_ids = []\n",
    "    \n",
    "    pipelines = t2s_client.services.text_to_speech.list_t2s_pipelines(\n",
    "        request=ListT2sPipelinesRequest(languages=[language])\n",
    "    ).pipelines\n",
    "    \n",
    "    \n",
    "    for pipeline in pipelines:\n",
    "        pipelines_ids.append(pipeline.id)\n",
    "    \n",
    "    return pipelines_ids"
   ]
  },
  {
   "cell_type": "code",
   "execution_count": 64,
   "id": "c3876263",
   "metadata": {},
   "outputs": [],
   "source": [
    "t2s_service: Text2Speech = t2s_client.services.text_to_speech\n",
    "def synthesis_request(t2s_service: Text2Speech, **req_kwargs: Any):\n",
    "    request = t2s.SynthesizeRequest(**req_kwargs)\n",
    "    response = t2s_service.synthesize(request=request)\n",
    "\n",
    "    print(\n",
    "        f\"Length of the generated audio is {response.audio_length} sec.\",\n",
    "        f\"Generation time is {response.generation_time} sec.\",\n",
    "    )\n",
    "\n",
    "    bio = io.BytesIO(response.audio)\n",
    "    audio = sf.read(bio)\n",
    "    return audio\n"
   ]
  },
  {
   "cell_type": "code",
   "execution_count": 65,
   "id": "43b5c327",
   "metadata": {},
   "outputs": [],
   "source": [
    "import IPython.display as ipd\n",
    "\n",
    "\n",
    "def say(text, length_scale = 0.9, t2s_pipeline_id = find_pipeline_by_language_t2s('de')[0]):\n",
    "    audio = synthesis_request(\n",
    "    t2s_service, text=text, t2s_pipeline_id=t2s_pipeline_id, length_scale=length_scale\n",
    "    )\n",
    "    \n",
    "    sound = []\n",
    "    sr = audio[1] # sample rate\n",
    "    sound = ipd.Audio(audio[0], rate=sr, autoplay=False) # load a NumPy array\n",
    "\n",
    "    return sound"
   ]
  },
  {
   "cell_type": "code",
   "execution_count": 66,
   "id": "d7a3fed1",
   "metadata": {},
   "outputs": [
    {
     "name": "stdout",
     "output_type": "stream",
     "text": [
      "Text to speech pipelines: ['thorsten', 'default_german', 'thomas', 'linda', 'sandra', 'kerstin', 'thomas_2']\n",
      "Text to speech domains: {'general'}\n",
      "Text to speech languages: {'de'}\n"
     ]
    }
   ],
   "source": [
    "t2s_pipelines = t2s_client.services.text_to_speech.list_t2s_pipelines(request=t2s.ListT2sPipelinesRequest())\n",
    "\n",
    "print(f\"Text to speech pipelines: {[pipeline.id for pipeline in t2s_pipelines.pipelines]}\")\n",
    "\n",
    "print(f\"Text to speech domains: {set([pipeline.description.domain for pipeline in t2s_pipelines.pipelines])}\")\n",
    "print(f\"Text to speech languages: {set([pipeline.description.language for pipeline in t2s_pipelines.pipelines])}\")"
   ]
  },
  {
   "cell_type": "code",
   "execution_count": 67,
   "id": "f5c4a99a",
   "metadata": {},
   "outputs": [
    {
     "name": "stdout",
     "output_type": "stream",
     "text": [
      "Length of the generated audio is 2.1014058589935303 sec. Generation time is 0.09093021601438522 sec.\n"
     ]
    },
    {
     "data": {
      "text/html": [
       "\n",
       "                <audio  controls=\"controls\" >\n",
       "                    <source src=\"data:audio/wav;base64,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\" type=\"audio/wav\" />\n",
       "                    Your browser does not support the audio element.\n",
       "                </audio>\n",
       "              "
      ],
      "text/plain": [
       "<IPython.lib.display.Audio object>"
      ]
     },
     "execution_count": 67,
     "metadata": {},
     "output_type": "execute_result"
    }
   ],
   "source": [
    "voice_num = 3\n",
    "language = \"de\"\n",
    "length_scale = 1\n",
    "say(\"Gruess dich Ich bin Gabriel\", length_scale, find_pipeline_by_language_t2s(language)[voice_num])"
   ]
  },
  {
   "cell_type": "code",
   "execution_count": null,
   "id": "57aaeab6",
   "metadata": {},
   "outputs": [],
   "source": []
  },
  {
   "cell_type": "code",
   "execution_count": null,
   "id": "5da33489",
   "metadata": {},
   "outputs": [],
   "source": []
  },
  {
   "cell_type": "code",
   "execution_count": null,
   "id": "b61c92e7",
   "metadata": {},
   "outputs": [],
   "source": []
  },
  {
   "cell_type": "code",
   "execution_count": 68,
   "id": "e4d16727",
   "metadata": {},
   "outputs": [],
   "source": [
    "from ondewo.nlu.session_pb2 import (\n",
    "    DetectIntentRequest,\n",
    "    DetectIntentResponse,\n",
    "    QueryInput,\n",
    "    QueryParameters,\n",
    "    TextInput,\n",
    ")\n"
   ]
  },
  {
   "cell_type": "code",
   "execution_count": 69,
   "id": "5dd64dce",
   "metadata": {},
   "outputs": [],
   "source": [
    "nlu_client = NluClient(config=nlu_config)"
   ]
  },
  {
   "cell_type": "code",
   "execution_count": 70,
   "id": "ef623122",
   "metadata": {},
   "outputs": [],
   "source": [
    "def create_session_nlu(project_id = \"924e70ca-c786-494c-bc48-4d0999da74db\"):\n",
    "    project_parent = f'projects/{project_id}/agent'\n",
    "    session_id = str(uuid.uuid4())\n",
    "    session = f'{project_parent}/sessions/{session_id}'\n",
    "    \n",
    "    return session"
   ]
  },
  {
   "cell_type": "code",
   "execution_count": 71,
   "id": "27795dca",
   "metadata": {},
   "outputs": [],
   "source": [
    "project_id =  \"924e70ca-c786-494c-bc48-4d0999da74db\"\n",
    "session = create_session_nlu(project_id)"
   ]
  },
  {
   "cell_type": "code",
   "execution_count": 72,
   "id": "26a3c687",
   "metadata": {},
   "outputs": [],
   "source": [
    "nlu_request: DetectIntentRequest = DetectIntentRequest(\n",
    "    session=session,\n",
    "    query_input=QueryInput(\n",
    "        text=TextInput(\n",
    "            text='Hallo, Ich habe hunger',\n",
    "            language_code='de',\n",
    "        )\n",
    "    ),\n",
    ")\n",
    "# detect intent (= get the NLU response)\n",
    "nlu_response: DetectIntentResponse = nlu_client.services.sessions.detect_intent(\n",
    "    request=nlu_request,\n",
    ")"
   ]
  },
  {
   "cell_type": "code",
   "execution_count": 73,
   "id": "a794a9f2",
   "metadata": {},
   "outputs": [
    {
     "data": {
      "text/plain": [
       "'Ich habe dich leider nicht verstanden. Kannst du das bitte wiederholen.'"
      ]
     },
     "execution_count": 73,
     "metadata": {},
     "output_type": "execute_result"
    }
   ],
   "source": [
    "nlu_response.query_result.fulfillment_messages[0].text.text[0]"
   ]
  },
  {
   "cell_type": "code",
   "execution_count": 146,
   "id": "ca4af007",
   "metadata": {},
   "outputs": [],
   "source": [
    "import re\n",
    "\n",
    "def get_agent_by_id(search_id):\n",
    "    agent_exists(search_id,0)\n",
    "    \n",
    "def get_agent_by_name(search_name):\n",
    "    agent_exists(search_name,1)\n",
    "    \n",
    "def agent_exists(search_agent, search_category):\n",
    "    agents_collect = []\n",
    "    for i in range(0, 100, 10):\n",
    "        agents = nlu_client.services.agents.list_agents(request=agent.ListAgentsRequest(page_token=f'current_index-{i}'))\n",
    "        if agents.agents_with_owners:\n",
    "            agents_collect += [(agent.agent.parent,agent.agent.display_name) for agent in agents.agents_with_owners]\n",
    "    found = 0\n",
    "    for a in agents_collect:\n",
    "        if re.findall(f\"(?i){search_agent}\", a[search_category]):\n",
    "            print(found)\n",
    "            print(a[1])\n",
    "            print(a[0].split('/')[1]) \n",
    "            found += 1 \n",
    "    \n",
    "    if not found :\n",
    "        print(\"Nothing found\")\n",
    "    "
   ]
  },
  {
   "cell_type": "code",
   "execution_count": 147,
   "id": "77c8f4ff",
   "metadata": {},
   "outputs": [
    {
     "name": "stdout",
     "output_type": "stream",
     "text": [
      "0\n",
      "KEB001 Sortierroboter\n",
      "3440ff23-b612-4231-a29b-e2e692c06eda\n",
      "1\n",
      "KEB001 Sortierroboter\n",
      "cbb4b540-2f5e-4b56-a137-64d9261d35e2\n",
      "2\n",
      "KEB001 Sortierroboter ChristophEtzlinger\n",
      "35a31183-e8b7-4760-85c6-f41067e8463d\n",
      "3\n",
      "KEB001 Sortierroboter Josef Steiner\n",
      "31a15059-46a2-4fb1-a86e-7f73bb752db0\n",
      "4\n",
      "KEB001 Sortierroboter Martin Baresch\n",
      "0e1eafd1-3d93-4c10-8940-575cae01352d\n",
      "5\n",
      "KEB001 Sortierroboter MatthiasReiter\n",
      "a5b35557-5b95-497c-8ab6-fdfbc66742b9\n"
     ]
    }
   ],
   "source": [
    "search_agent_name = \"KEb\"\n",
    "get_agent_by_name(search_agent_name)"
   ]
  },
  {
   "cell_type": "code",
   "execution_count": 150,
   "id": "9107d1e2",
   "metadata": {},
   "outputs": [
    {
     "name": "stdout",
     "output_type": "stream",
     "text": [
      "0\n",
      "SHOWCASE Pizza Bot\n",
      "924e70ca-c786-494c-bc48-4d0999da74db\n"
     ]
    }
   ],
   "source": [
    "search_agent_by_id = \"924e70ca-c786-494c-bc48-4d0999da74db\"\n",
    "get_agent_by_id(search_agent_by_id)"
   ]
  },
  {
   "cell_type": "code",
   "execution_count": null,
   "id": "10bafba0",
   "metadata": {},
   "outputs": [],
   "source": []
  },
  {
   "cell_type": "code",
   "execution_count": null,
   "id": "51392440",
   "metadata": {},
   "outputs": [],
   "source": []
  }
 ],
 "metadata": {
  "kernelspec": {
   "display_name": "Python 3",
   "language": "python",
   "name": "python3"
  },
  "language_info": {
   "codemirror_mode": {
    "name": "ipython",
    "version": 3
   },
   "file_extension": ".py",
   "mimetype": "text/x-python",
   "name": "python",
   "nbconvert_exporter": "python",
   "pygments_lexer": "ipython3",
   "version": "3.8.8"
  }
 },
 "nbformat": 4,
 "nbformat_minor": 5
}
