{
 "cells": [
  {
   "cell_type": "markdown",
   "id": "5999b787",
   "metadata": {
    "colab_type": "text",
    "id": "view-in-github"
   },
   "source": [
    "<a href=\"https://colab.research.google.com/github/ondewo/ondewo-csi-client-python/blob/jupyter_tutorials_2/tutorials/Jupyter_tutorial_colab.ipynb\" target=\"_parent\"><img src=\"https://colab.research.google.com/assets/colab-badge.svg\" alt=\"Open In Colab\"/></a>"
   ]
  },
  {
   "cell_type": "code",
   "execution_count": null,
   "id": "bc4cbd31",
   "metadata": {
    "colab": {
     "base_uri": "https://localhost:8080/"
    },
    "id": "zIAugLM6Jii6",
    "outputId": "f5f479c8-567c-40a3-85a6-7473f780db36"
   },
   "outputs": [],
   "source": [
    "#if you need to connect to your drive uncomment what's below\n",
    "\n",
    "# from google.colab import drive\n",
    "# drive.mount('/content/gdrive')"
   ]
  },
  {
   "cell_type": "code",
   "execution_count": null,
   "id": "13221f77",
   "metadata": {},
   "outputs": [],
   "source": [
    "!wget curl https://raw.githubusercontent.com/ondewo/ondewo-csi-client-python/jupyter_tutorials_2/tutorials/Jupyter_demo_helper.ipynb"
   ]
  },
  {
   "cell_type": "code",
   "execution_count": null,
   "id": "40becc8b",
   "metadata": {
    "colab": {
     "base_uri": "https://localhost:8080/",
     "height": 1000
    },
    "id": "7LeyWl81HCaQ",
    "outputId": "3447ad7c-b37a-442a-e943-3facf233f657"
   },
   "outputs": [],
   "source": [
    "!pip install ondewo-csi-client==0.2.2"
   ]
  },
  {
   "cell_type": "code",
   "execution_count": null,
   "id": "b078e9e6",
   "metadata": {
    "colab": {
     "base_uri": "https://localhost:8080/"
    },
    "id": "lZ_MhG_DMkUn",
    "outputId": "35b6ad72-8e5a-43e5-eaf3-2d995e4a0e5c"
   },
   "outputs": [],
   "source": [
    "!sudo apt-get install python-pyaudio python3-pyaudio"
   ]
  },
  {
   "cell_type": "code",
   "execution_count": null,
   "id": "96341985",
   "metadata": {
    "id": "a848c1f3"
   },
   "outputs": [],
   "source": [
    "# get some helper functions\n",
    "%run Jupyter_demo_helper.ipynb"
   ]
  },
  {
   "cell_type": "markdown",
   "id": "b3efe0ac",
   "metadata": {
    "id": "75ec7ed1"
   },
   "source": [
    "# Ondewo s2s client tutorial\n"
   ]
  },
  {
   "cell_type": "markdown",
   "id": "e34851a0",
   "metadata": {
    "id": "775d7af9"
   },
   "source": [
    "First: Importing your clients with these lines:"
   ]
  },
  {
   "cell_type": "code",
   "execution_count": null,
   "id": "0e2602e7",
   "metadata": {
    "id": "33c31971"
   },
   "outputs": [],
   "source": [
    "from ondewo.csi.client.client_config import ClientConfig\n",
    "from ondewo.nlu.client_config import ClientConfig as NluClientConfig\n",
    "\n",
    "from ondewo.csi.client.client import Client as CsiClient\n",
    "from ondewo.s2t.client.client import Client as S2tClient\n",
    "from ondewo.t2s.client.client import Client as T2sClient\n",
    "from ondewo.nlu.client import Client as NluClient"
   ]
  },
  {
   "cell_type": "markdown",
   "id": "3d484e30",
   "metadata": {
    "id": "13912c41"
   },
   "source": [
    "Second: Import the grpc auto generated code. This is built automatically from protobuff libraries"
   ]
  },
  {
   "cell_type": "code",
   "execution_count": null,
   "id": "c5d7a48e",
   "metadata": {
    "id": "09f2a807"
   },
   "outputs": [],
   "source": [
    "import ondewo.s2t.speech_to_text_pb2 as s2t\n",
    "import ondewo.t2s.text_to_speech_pb2 as t2s\n",
    "import ondewo.nlu.agent_pb2 as agent"
   ]
  },
  {
   "cell_type": "code",
   "execution_count": null,
   "id": "8d6a3901",
   "metadata": {
    "id": "bWuiTj_GIdc6"
   },
   "outputs": [],
   "source": [
    "from google.colab import files"
   ]
  },
  {
   "cell_type": "code",
   "execution_count": null,
   "id": "99e63566",
   "metadata": {},
   "outputs": [],
   "source": [
    "print('upload a csi.json file: ')\n",
    "uploaded = files.upload()"
   ]
  },
  {
   "cell_type": "code",
   "execution_count": null,
   "id": "49b0f09a",
   "metadata": {
    "id": "b6e6ec31"
   },
   "outputs": [],
   "source": [
    "file_name = input(\"Enter file name: \")\n",
    "\n",
    "with open(file_name) as fi:\n",
    "    config = ClientConfig.from_json(fi.read())\n",
    "with open(file_name) as fi:\n",
    "    nlu_config = NluClientConfig.from_json(fi.read())"
   ]
  },
  {
   "cell_type": "markdown",
   "id": "61a815b5",
   "metadata": {
    "id": "b396e738"
   },
   "source": [
    "# CSI Client"
   ]
  },
  {
   "cell_type": "code",
   "execution_count": null,
   "id": "248b1411",
   "metadata": {
    "id": "3ec6560a"
   },
   "outputs": [],
   "source": [
    "csi_client = CsiClient(config=config)"
   ]
  },
  {
   "cell_type": "markdown",
   "id": "a4906d6c",
   "metadata": {
    "id": "2ae11af7"
   },
   "source": [
    "\n",
    "## s2t, t2s and nlu Clients\n",
    "Now you have all the clients "
   ]
  },
  {
   "cell_type": "code",
   "execution_count": null,
   "id": "256bb1b3",
   "metadata": {
    "id": "90cf4f7d"
   },
   "outputs": [],
   "source": [
    "s2t_client = S2tClient(config=config)"
   ]
  },
  {
   "cell_type": "code",
   "execution_count": null,
   "id": "fee78076",
   "metadata": {
    "id": "4fc52366"
   },
   "outputs": [],
   "source": [
    "t2s_client = T2sClient(config=config)"
   ]
  },
  {
   "cell_type": "code",
   "execution_count": null,
   "id": "8fe300d6",
   "metadata": {
    "id": "de1345f3"
   },
   "outputs": [],
   "source": [
    "nlu_client = NluClient(config=nlu_config)"
   ]
  },
  {
   "cell_type": "markdown",
   "id": "4a5c48e5",
   "metadata": {
    "id": "b8f59245"
   },
   "source": [
    "#### Example 1 s2t "
   ]
  },
  {
   "cell_type": "code",
   "execution_count": null,
   "id": "29907138",
   "metadata": {
    "colab": {
     "base_uri": "https://localhost:8080/",
     "height": 39,
     "resources": {
      "http://localhost:8080/nbextensions/google.colab/files.js": {
       "data": "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",
       "headers": [
        [
         "content-type",
         "application/javascript"
        ]
       ],
       "ok": true,
       "status": 200,
       "status_text": ""
      }
     }
    },
    "id": "WcmIPJt0L2Nw",
    "outputId": "a6f5e1ba-d5ad-4191-87b5-5e51de8b2b29"
   },
   "outputs": [],
   "source": [
    "uploaded = files.upload()"
   ]
  },
  {
   "cell_type": "code",
   "execution_count": null,
   "id": "bb1ae6ca",
   "metadata": {
    "id": "c86ce8e7"
   },
   "outputs": [],
   "source": [
    "file_name = input(\"Enter file name: \")\n",
    "AUDIO_FILE: str = file_name\n",
    "language = 'en'\n",
    "\n",
    "transcribe_response = s2t_ex_1(AUDIO_FILE, language)"
   ]
  },
  {
   "cell_type": "code",
   "execution_count": null,
   "id": "fdd5266e",
   "metadata": {
    "colab": {
     "base_uri": "https://localhost:8080/"
    },
    "id": "c105e0de",
    "outputId": "514e709e-5364-4b53-a273-9232210f4d45"
   },
   "outputs": [],
   "source": [
    "print(transcribe_response.transcription)\n",
    "\n",
    "s2t_pipelines = s2t_client.services.speech_to_text.list_s2t_pipelines(request=s2t.ListS2tPipelinesRequest())\n",
    "\n",
    "print(f\"Speech to text pipelines: {[pipeline.id for pipeline in s2t_pipelines.pipeline_configs]}\")\n",
    "\n",
    "print(f\"Speech to text domains: { set([pipeline.description.domain for pipeline in s2t_pipelines.pipeline_configs])}\")\n",
    "\n",
    "print(f\"Speech to text languages: { set([pipeline.description.language for pipeline in s2t_pipelines.pipeline_configs])}\")\n"
   ]
  },
  {
   "cell_type": "markdown",
   "id": "07685a7e",
   "metadata": {
    "id": "ec5ff32a"
   },
   "source": [
    "####  Example 2 s2t"
   ]
  },
  {
   "cell_type": "code",
   "execution_count": null,
   "id": "99e6f50c",
   "metadata": {
    "colab": {
     "base_uri": "https://localhost:8080/",
     "height": 73,
     "resources": {
      "http://localhost:8080/nbextensions/google.colab/files.js": {
       "data": "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",
       "headers": [
        [
         "content-type",
         "application/javascript"
        ]
       ],
       "ok": true,
       "status": 200,
       "status_text": ""
      }
     }
    },
    "id": "HN9R6Z61MIxH",
    "outputId": "f560c456-756f-49cc-c867-679bd890c15c"
   },
   "outputs": [],
   "source": [
    "uploaded = files.upload()"
   ]
  },
  {
   "cell_type": "code",
   "execution_count": null,
   "id": "bba704ad",
   "metadata": {
    "id": "e032abac"
   },
   "outputs": [],
   "source": [
    "file_name = input(\"Enter file name: \")\n",
    "AUDIO_FILE: str = file_name\n",
    "language = 'en'\n",
    "\n",
    "response_gen = s2t_ex_2(AUDIO_FILE, language)"
   ]
  },
  {
   "cell_type": "code",
   "execution_count": null,
   "id": "8f5903a6",
   "metadata": {
    "colab": {
     "base_uri": "https://localhost:8080/"
    },
    "id": "1534eb29",
    "outputId": "cf20f34b-eb2f-4bef-c5b3-a8c99dbf5ddb"
   },
   "outputs": [],
   "source": [
    "for i, response_chunk in enumerate(response_gen):\n",
    "    print(response_chunk.transcription)"
   ]
  },
  {
   "cell_type": "code",
   "execution_count": null,
   "id": "25d1a3c1",
   "metadata": {
    "colab": {
     "base_uri": "https://localhost:8080/"
    },
    "id": "3a6a59b7",
    "outputId": "eaff768e-05a7-4697-8220-1e305eb41d88"
   },
   "outputs": [],
   "source": [
    "s2t_pipelines = s2t_client.services.speech_to_text.list_s2t_pipelines(request=s2t.ListS2tPipelinesRequest())\n",
    "\n",
    "print(f\"Speech to text pipelines: {[pipeline.id for pipeline in s2t_pipelines.pipeline_configs]}\")\n",
    "\n",
    "print(f\"Speech to text domains: { set([pipeline.description.domain for pipeline in s2t_pipelines.pipeline_configs])}\")\n",
    "\n",
    "print(f\"Speech to text languages: { set([pipeline.description.language for pipeline in s2t_pipelines.pipeline_configs])}\")\n"
   ]
  },
  {
   "cell_type": "markdown",
   "id": "1b75af35",
   "metadata": {
    "id": "9d70709f"
   },
   "source": [
    "#### Example 3 s2t : live stream"
   ]
  },
  {
   "cell_type": "code",
   "execution_count": null,
   "id": "c70c8647",
   "metadata": {
    "id": "ac75eea4"
   },
   "outputs": [],
   "source": [
    "def live_speech(pipeline_id,session_id = str(uuid.uuid4()),save_to_disk = False,streamer_name = \"pyaudio\"):\n",
    "    live_speech_helper(pipeline_id,session_id,save_to_disk,streamer_name)"
   ]
  },
  {
   "cell_type": "code",
   "execution_count": null,
   "id": "f7d1adc7",
   "metadata": {
    "colab": {
     "base_uri": "https://localhost:8080/",
     "height": 454
    },
    "id": "ad8bba33",
    "outputId": "b50fbb5a-1322-4828-d23c-e313c99cc34e"
   },
   "outputs": [],
   "source": [
    "live_speech('default_german')"
   ]
  },
  {
   "cell_type": "markdown",
   "id": "2c0be3b7",
   "metadata": {
    "id": "cf7c4d04"
   },
   "source": [
    "## t2s client\n"
   ]
  },
  {
   "cell_type": "markdown",
   "id": "2d1a147f",
   "metadata": {
    "id": "eab42dd8"
   },
   "source": [
    "#### Example t2s"
   ]
  },
  {
   "cell_type": "code",
   "execution_count": null,
   "id": "3dee59d0",
   "metadata": {
    "colab": {
     "base_uri": "https://localhost:8080/"
    },
    "id": "3069fad6",
    "outputId": "9a106024-c214-4a6c-dc59-62963afe8d94"
   },
   "outputs": [],
   "source": [
    "t2s_pipelines = t2s_client.services.text_to_speech.list_t2s_pipelines(request=t2s.ListT2sPipelinesRequest())\n",
    "\n",
    "print(f\"Text to speech pipelines: {[pipeline.id for pipeline in t2s_pipelines.pipelines]}\")\n",
    "\n",
    "print(f\"Text to speech domains: {set([pipeline.description.domain for pipeline in t2s_pipelines.pipelines])}\")\n",
    "print(f\"Text to speech languages: {set([pipeline.description.language for pipeline in t2s_pipelines.pipelines])}\")"
   ]
  },
  {
   "cell_type": "code",
   "execution_count": null,
   "id": "86ec8247",
   "metadata": {
    "colab": {
     "base_uri": "https://localhost:8080/",
     "height": 92
    },
    "id": "306e2c66",
    "outputId": "6b5eee08-f044-4365-9518-de77b15f4110"
   },
   "outputs": [],
   "source": [
    "voice_num = 2\n",
    "language = \"de\"\n",
    "length_scale = 2\n",
    "say(t2s_client, \"Gruess dich Ich bin Gabriel\", length_scale, language, voice_num)"
   ]
  },
  {
   "cell_type": "markdown",
   "id": "c4a15bf8",
   "metadata": {
    "id": "624a2cf9"
   },
   "source": [
    "## NLU client "
   ]
  },
  {
   "cell_type": "code",
   "execution_count": null,
   "id": "111be106",
   "metadata": {
    "id": "139009e6"
   },
   "outputs": [],
   "source": [
    "project_id =  \"924e70ca-c786-494c-bc48-4d0999da74db\"\n",
    "#session_id can be passed too\n",
    "session = create_session_nlu(project_id, 'blabaasdflasadfslfgasg')"
   ]
  },
  {
   "cell_type": "code",
   "execution_count": null,
   "id": "bc8eae80",
   "metadata": {
    "colab": {
     "base_uri": "https://localhost:8080/"
    },
    "id": "01c3284d",
    "outputId": "16641f6b-12f7-4fe5-bc47-3dc060e6a23c"
   },
   "outputs": [],
   "source": [
    "# Enter \"end convo\" to quit at any time\n",
    "nlu_convo()"
   ]
  },
  {
   "cell_type": "code",
   "execution_count": null,
   "id": "6b411def",
   "metadata": {},
   "outputs": [],
   "source": [
    "from google.colab import drive\n",
    "\n",
    "drive.mount('/content/gdrive')\n",
    "\n",
    "!pip install ondewo-csi-client==0.2.2\n",
    "\n",
    "!sudo apt-get install python-pyaudio python3-pyaudio\n",
    "\n",
    "cd gdrive/MyDrive/Colab\\ Notebooks\n",
    "\n",
    "# get some helper functions\n",
    "%run Jupyter_demo_helper.ipynb\n",
    "\n",
    "# Ondewo s2s client tutorial\n",
    "\n",
    "\n",
    "First: Importing your clients with these lines:\n",
    "\n",
    "from ondewo.csi.client.client_config import ClientConfig\n",
    "from ondewo.nlu.client_config import ClientConfig as NluClientConfig\n",
    "\n",
    "from ondewo.csi.client.client import Client as CsiClient\n",
    "from ondewo.s2t.client.client import Client as S2tClient\n",
    "from ondewo.t2s.client.client import Client as T2sClient\n",
    "from ondewo.nlu.client import Client as NluClient\n",
    "\n",
    "Second: Import the grpc auto generated code. This is built automatically from protobuff libraries\n",
    "\n",
    "import ondewo.s2t.speech_to_text_pb2 as s2t\n",
    "import ondewo.t2s.text_to_speech_pb2 as t2s\n",
    "import ondewo.nlu.agent_pb2 as agent\n",
    "\n",
    "\n",
    "\n",
    "# TODO enter csi json file in colab\n",
    "\n",
    "with open('csi.json') as fi:\n",
    "    config = ClientConfig.from_json(fi.read())\n",
    "with open('csi.json') as fi:\n",
    "    nlu_config = NluClientConfig.from_json(fi.read())\n",
    "\n",
    "# CSI Client\n",
    "\n",
    "csi_client = CsiClient(config=config)\n",
    "\n",
    "\n",
    "## s2t, t2s and nlu Clients\n",
    "Now you have all the clients \n",
    "\n",
    "s2t_client = S2tClient(config=config)\n",
    "\n",
    "t2s_client = T2sClient(config=config)\n",
    "\n",
    "nlu_client = NluClient(config=nlu_config)\n",
    "\n",
    "#### Example 1 s2t \n",
    "\n",
    "from google.colab import files\n",
    "uploaded = files.upload()\n",
    "\n",
    "AUDIO_FILE: str = \"sample_1.wav\"\n",
    "language = 'en'\n",
    "\n",
    "transcribe_response = s2t_ex_1(AUDIO_FILE, language)\n",
    "\n",
    "print(transcribe_response.transcription)\n",
    "\n",
    "s2t_pipelines = s2t_client.services.speech_to_text.list_s2t_pipelines(request=s2t.ListS2tPipelinesRequest())\n",
    "\n",
    "print(f\"Speech to text pipelines: {[pipeline.id for pipeline in s2t_pipelines.pipeline_configs]}\")\n",
    "\n",
    "print(f\"Speech to text domains: { set([pipeline.description.domain for pipeline in s2t_pipelines.pipeline_configs])}\")\n",
    "\n",
    "print(f\"Speech to text languages: { set([pipeline.description.language for pipeline in s2t_pipelines.pipeline_configs])}\")\n",
    "\n",
    "\n",
    "####  Example 2 s2t\n",
    "\n",
    "uploaded = files.upload()\n",
    "\n",
    "AUDIO_FILE: str = \"sample_2.wav\"\n",
    "language = 'en'\n",
    "\n",
    "response_gen = s2t_ex_2(AUDIO_FILE, language)\n",
    "\n",
    "for i, response_chunk in enumerate(response_gen):\n",
    "    print(response_chunk.transcription)\n",
    "\n",
    "s2t_pipelines = s2t_client.services.speech_to_text.list_s2t_pipelines(request=s2t.ListS2tPipelinesRequest())\n",
    "\n",
    "print(f\"Speech to text pipelines: {[pipeline.id for pipeline in s2t_pipelines.pipeline_configs]}\")\n",
    "\n",
    "print(f\"Speech to text domains: { set([pipeline.description.domain for pipeline in s2t_pipelines.pipeline_configs])}\")\n",
    "\n",
    "print(f\"Speech to text languages: { set([pipeline.description.language for pipeline in s2t_pipelines.pipeline_configs])}\")\n",
    "\n",
    "\n",
    "#### Example 3 s2t : live stream\n",
    "\n",
    "def live_speech(pipeline_id,session_id = str(uuid.uuid4()),save_to_disk = False,streamer_name = \"pyaudio\"):\n",
    "    live_speech_helper(pipeline_id,session_id,save_to_disk,streamer_name)\n",
    "\n",
    "live_speech('default_german')\n",
    "\n",
    "## t2s client\n",
    "\n",
    "\n",
    "#### Example t2s\n",
    "\n",
    "t2s_pipelines = t2s_client.services.text_to_speech.list_t2s_pipelines(request=t2s.ListT2sPipelinesRequest())\n",
    "\n",
    "print(f\"Text to speech pipelines: {[pipeline.id for pipeline in t2s_pipelines.pipelines]}\")\n",
    "\n",
    "print(f\"Text to speech domains: {set([pipeline.description.domain for pipeline in t2s_pipelines.pipelines])}\")\n",
    "print(f\"Text to speech languages: {set([pipeline.description.language for pipeline in t2s_pipelines.pipelines])}\")\n",
    "\n",
    "voice_num = 2\n",
    "language = \"de\"\n",
    "length_scale = 2\n",
    "say(t2s_client, \"Gruess dich Ich bin Gabriel\", length_scale, language, voice_num)\n",
    "\n",
    "## NLU client \n",
    "\n",
    "project_id =  \"924e70ca-c786-494c-bc48-4d0999da74db\"\n",
    "#session_id can be passed too\n",
    "session = create_session_nlu(project_id, 'blabaasdflasadfslfgasg')\n",
    "\n",
    "# Enter \"end convo\" to quit at any time\n",
    "nlu_convo()"
   ]
  }
 ],
 "metadata": {
  "kernelspec": {
   "display_name": "Python 3",
   "language": "python",
   "name": "python3"
  },
  "language_info": {
   "codemirror_mode": {
    "name": "ipython",
    "version": 3
   },
   "file_extension": ".py",
   "mimetype": "text/x-python",
   "name": "python",
   "nbconvert_exporter": "python",
   "pygments_lexer": "ipython3",
   "version": "3.8.8"
  }
 },
 "nbformat": 4,
 "nbformat_minor": 5
}
